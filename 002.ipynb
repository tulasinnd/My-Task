{
 "cells": [
  {
   "cell_type": "markdown",
   "id": "bf3ff28d",
   "metadata": {},
   "source": [
    "## Drop off rate Annalysis"
   ]
  },
  {
   "cell_type": "code",
   "execution_count": 1,
   "id": "7a120301",
   "metadata": {},
   "outputs": [
    {
     "data": {
      "text/html": [
       "<div>\n",
       "<style scoped>\n",
       "    .dataframe tbody tr th:only-of-type {\n",
       "        vertical-align: middle;\n",
       "    }\n",
       "\n",
       "    .dataframe tbody tr th {\n",
       "        vertical-align: top;\n",
       "    }\n",
       "\n",
       "    .dataframe thead th {\n",
       "        text-align: right;\n",
       "    }\n",
       "</style>\n",
       "<table border=\"1\" class=\"dataframe\">\n",
       "  <thead>\n",
       "    <tr style=\"text-align: right;\">\n",
       "      <th></th>\n",
       "      <th>Unnamed: 0</th>\n",
       "      <th>Patient-Uid</th>\n",
       "      <th>Date</th>\n",
       "      <th>Incident</th>\n",
       "    </tr>\n",
       "  </thead>\n",
       "  <tbody>\n",
       "    <tr>\n",
       "      <th>0</th>\n",
       "      <td>0</td>\n",
       "      <td>a0db1e73-1c7c-11ec-ae39-16262ee38c7f</td>\n",
       "      <td>2019-03-09</td>\n",
       "      <td>PRIMARY_DIAGNOSIS</td>\n",
       "    </tr>\n",
       "    <tr>\n",
       "      <th>1</th>\n",
       "      <td>1</td>\n",
       "      <td>a0dc93f2-1c7c-11ec-9cd2-16262ee38c7f</td>\n",
       "      <td>2015-05-16</td>\n",
       "      <td>PRIMARY_DIAGNOSIS</td>\n",
       "    </tr>\n",
       "    <tr>\n",
       "      <th>2</th>\n",
       "      <td>3</td>\n",
       "      <td>a0dc94c6-1c7c-11ec-a3a0-16262ee38c7f</td>\n",
       "      <td>2018-01-30</td>\n",
       "      <td>SYMPTOM_TYPE_0</td>\n",
       "    </tr>\n",
       "    <tr>\n",
       "      <th>3</th>\n",
       "      <td>4</td>\n",
       "      <td>a0dc950b-1c7c-11ec-b6ec-16262ee38c7f</td>\n",
       "      <td>2015-04-22</td>\n",
       "      <td>DRUG_TYPE_0</td>\n",
       "    </tr>\n",
       "    <tr>\n",
       "      <th>4</th>\n",
       "      <td>8</td>\n",
       "      <td>a0dc9543-1c7c-11ec-bb63-16262ee38c7f</td>\n",
       "      <td>2016-06-18</td>\n",
       "      <td>DRUG_TYPE_1</td>\n",
       "    </tr>\n",
       "  </tbody>\n",
       "</table>\n",
       "</div>"
      ],
      "text/plain": [
       "   Unnamed: 0                           Patient-Uid        Date  \\\n",
       "0           0  a0db1e73-1c7c-11ec-ae39-16262ee38c7f  2019-03-09   \n",
       "1           1  a0dc93f2-1c7c-11ec-9cd2-16262ee38c7f  2015-05-16   \n",
       "2           3  a0dc94c6-1c7c-11ec-a3a0-16262ee38c7f  2018-01-30   \n",
       "3           4  a0dc950b-1c7c-11ec-b6ec-16262ee38c7f  2015-04-22   \n",
       "4           8  a0dc9543-1c7c-11ec-bb63-16262ee38c7f  2016-06-18   \n",
       "\n",
       "            Incident  \n",
       "0  PRIMARY_DIAGNOSIS  \n",
       "1  PRIMARY_DIAGNOSIS  \n",
       "2     SYMPTOM_TYPE_0  \n",
       "3        DRUG_TYPE_0  \n",
       "4        DRUG_TYPE_1  "
      ]
     },
     "execution_count": 1,
     "metadata": {},
     "output_type": "execute_result"
    }
   ],
   "source": [
    "import warnings\n",
    "warnings.filterwarnings(\"ignore\")\n",
    "import pandas as pd\n",
    "df_train = pd.read_csv(r\"Patient_train.csv\")\n",
    "df_train.head(5)"
   ]
  },
  {
   "cell_type": "markdown",
   "id": "da239b96",
   "metadata": {},
   "source": [
    "### Extract only patients who have taken target drug atleast once"
   ]
  },
  {
   "cell_type": "code",
   "execution_count": 6,
   "id": "66a7a9c1",
   "metadata": {},
   "outputs": [
    {
     "name": "stdout",
     "output_type": "stream",
     "text": [
      "9374\n"
     ]
    }
   ],
   "source": [
    "# Filter the dataframe based on the condition\n",
    "filtered_df = df_train[df_train['Incident'] == 'TARGET DRUG']\n",
    "patient_ids = filtered_df['Patient-Uid'].unique().tolist()\n",
    "print(len(patient_ids))"
   ]
  },
  {
   "cell_type": "code",
   "execution_count": 36,
   "id": "29692407",
   "metadata": {},
   "outputs": [
    {
     "data": {
      "text/html": [
       "<div>\n",
       "<style scoped>\n",
       "    .dataframe tbody tr th:only-of-type {\n",
       "        vertical-align: middle;\n",
       "    }\n",
       "\n",
       "    .dataframe tbody tr th {\n",
       "        vertical-align: top;\n",
       "    }\n",
       "\n",
       "    .dataframe thead th {\n",
       "        text-align: right;\n",
       "    }\n",
       "</style>\n",
       "<table border=\"1\" class=\"dataframe\">\n",
       "  <thead>\n",
       "    <tr style=\"text-align: right;\">\n",
       "      <th></th>\n",
       "      <th>Unnamed: 0</th>\n",
       "      <th>Patient-Uid</th>\n",
       "      <th>Date</th>\n",
       "      <th>Incident</th>\n",
       "      <th>Year</th>\n",
       "      <th>Month</th>\n",
       "    </tr>\n",
       "  </thead>\n",
       "  <tbody>\n",
       "    <tr>\n",
       "      <th>0</th>\n",
       "      <td>12336688</td>\n",
       "      <td>a0e9c384-1c7c-11ec-81a0-16262ee38c7f</td>\n",
       "      <td>2020-07-08</td>\n",
       "      <td>TARGET DRUG</td>\n",
       "      <td>2020</td>\n",
       "      <td>7</td>\n",
       "    </tr>\n",
       "    <tr>\n",
       "      <th>1</th>\n",
       "      <td>5863940</td>\n",
       "      <td>a0e9c384-1c7c-11ec-81a0-16262ee38c7f</td>\n",
       "      <td>2020-08-05</td>\n",
       "      <td>TARGET DRUG</td>\n",
       "      <td>2020</td>\n",
       "      <td>8</td>\n",
       "    </tr>\n",
       "    <tr>\n",
       "      <th>2</th>\n",
       "      <td>11867225</td>\n",
       "      <td>a0e9c384-1c7c-11ec-81a0-16262ee38c7f</td>\n",
       "      <td>2020-09-02</td>\n",
       "      <td>TARGET DRUG</td>\n",
       "      <td>2020</td>\n",
       "      <td>9</td>\n",
       "    </tr>\n",
       "    <tr>\n",
       "      <th>3</th>\n",
       "      <td>22351865</td>\n",
       "      <td>a0e9c3b3-1c7c-11ec-ae8e-16262ee38c7f</td>\n",
       "      <td>2018-04-24</td>\n",
       "      <td>TARGET DRUG</td>\n",
       "      <td>2018</td>\n",
       "      <td>4</td>\n",
       "    </tr>\n",
       "    <tr>\n",
       "      <th>4</th>\n",
       "      <td>21226200</td>\n",
       "      <td>a0e9c3b3-1c7c-11ec-ae8e-16262ee38c7f</td>\n",
       "      <td>2018-05-17</td>\n",
       "      <td>TARGET DRUG</td>\n",
       "      <td>2018</td>\n",
       "      <td>5</td>\n",
       "    </tr>\n",
       "  </tbody>\n",
       "</table>\n",
       "</div>"
      ],
      "text/plain": [
       "   Unnamed: 0                           Patient-Uid       Date     Incident  \\\n",
       "0    12336688  a0e9c384-1c7c-11ec-81a0-16262ee38c7f 2020-07-08  TARGET DRUG   \n",
       "1     5863940  a0e9c384-1c7c-11ec-81a0-16262ee38c7f 2020-08-05  TARGET DRUG   \n",
       "2    11867225  a0e9c384-1c7c-11ec-81a0-16262ee38c7f 2020-09-02  TARGET DRUG   \n",
       "3    22351865  a0e9c3b3-1c7c-11ec-ae8e-16262ee38c7f 2018-04-24  TARGET DRUG   \n",
       "4    21226200  a0e9c3b3-1c7c-11ec-ae8e-16262ee38c7f 2018-05-17  TARGET DRUG   \n",
       "\n",
       "   Year  Month  \n",
       "0  2020      7  \n",
       "1  2020      8  \n",
       "2  2020      9  \n",
       "3  2018      4  \n",
       "4  2018      5  "
      ]
     },
     "execution_count": 36,
     "metadata": {},
     "output_type": "execute_result"
    }
   ],
   "source": [
    "filtered_df[:5]"
   ]
  },
  {
   "cell_type": "code",
   "execution_count": null,
   "id": "846b9ff8",
   "metadata": {},
   "outputs": [],
   "source": [
    "# lets find drop off rate and its graph"
   ]
  },
  {
   "cell_type": "code",
   "execution_count": 9,
   "id": "96c1fcf4",
   "metadata": {},
   "outputs": [],
   "source": [
    "# Convert the 'Date' column to datetime format\n",
    "filtered_df['Date'] = pd.to_datetime(filtered_df['Date'])\n",
    "filtered_df['Year'] = filtered_df['Date'].dt.year\n",
    "filtered_df['Month'] = filtered_df['Date'].dt.month"
   ]
  },
  {
   "cell_type": "code",
   "execution_count": 37,
   "id": "1de816bc",
   "metadata": {},
   "outputs": [
    {
     "data": {
      "text/html": [
       "<div>\n",
       "<style scoped>\n",
       "    .dataframe tbody tr th:only-of-type {\n",
       "        vertical-align: middle;\n",
       "    }\n",
       "\n",
       "    .dataframe tbody tr th {\n",
       "        vertical-align: top;\n",
       "    }\n",
       "\n",
       "    .dataframe thead th {\n",
       "        text-align: right;\n",
       "    }\n",
       "</style>\n",
       "<table border=\"1\" class=\"dataframe\">\n",
       "  <thead>\n",
       "    <tr style=\"text-align: right;\">\n",
       "      <th></th>\n",
       "      <th>Unnamed: 0</th>\n",
       "      <th>Patient-Uid</th>\n",
       "      <th>Date</th>\n",
       "      <th>Incident</th>\n",
       "      <th>Year</th>\n",
       "      <th>Month</th>\n",
       "    </tr>\n",
       "  </thead>\n",
       "  <tbody>\n",
       "    <tr>\n",
       "      <th>0</th>\n",
       "      <td>12336688</td>\n",
       "      <td>a0e9c384-1c7c-11ec-81a0-16262ee38c7f</td>\n",
       "      <td>2020-07-08</td>\n",
       "      <td>TARGET DRUG</td>\n",
       "      <td>2020</td>\n",
       "      <td>7</td>\n",
       "    </tr>\n",
       "    <tr>\n",
       "      <th>1</th>\n",
       "      <td>5863940</td>\n",
       "      <td>a0e9c384-1c7c-11ec-81a0-16262ee38c7f</td>\n",
       "      <td>2020-08-05</td>\n",
       "      <td>TARGET DRUG</td>\n",
       "      <td>2020</td>\n",
       "      <td>8</td>\n",
       "    </tr>\n",
       "  </tbody>\n",
       "</table>\n",
       "</div>"
      ],
      "text/plain": [
       "   Unnamed: 0                           Patient-Uid       Date     Incident  \\\n",
       "0    12336688  a0e9c384-1c7c-11ec-81a0-16262ee38c7f 2020-07-08  TARGET DRUG   \n",
       "1     5863940  a0e9c384-1c7c-11ec-81a0-16262ee38c7f 2020-08-05  TARGET DRUG   \n",
       "\n",
       "   Year  Month  \n",
       "0  2020      7  \n",
       "1  2020      8  "
      ]
     },
     "execution_count": 37,
     "metadata": {},
     "output_type": "execute_result"
    }
   ],
   "source": [
    "filtered_df = filtered_df.reset_index(drop=True)\n",
    "filtered_df[:2] "
   ]
  },
  {
   "cell_type": "markdown",
   "id": "9d3559a5",
   "metadata": {},
   "source": [
    "### This graph shows in a month how many patients taken target drug"
   ]
  },
  {
   "cell_type": "code",
   "execution_count": 24,
   "id": "b561f9f0",
   "metadata": {},
   "outputs": [
    {
     "data": {
      "image/png": "[encoded data removed]",
      "text/plain": [
       "<Figure size 1400x600 with 1 Axes>"
      ]
     },
     "metadata": {},
     "output_type": "display_data"
    }
   ],
   "source": [
    "import pandas as pd\n",
    "import matplotlib.pyplot as plt\n",
    "trend = filtered_df.groupby(['Year', 'Month'])\n",
    "patient_counts = trend['Patient-Uid'].count()\n",
    "x_labels = [f'{year}-{month}' for year, month in patient_counts.index]\n",
    "fig, ax = plt.subplots(figsize=(14, 6))\n",
    "bar_width = 0.8\n",
    "plt.xticks(rotation=45)\n",
    "ax.bar(x_labels, patient_counts, width=bar_width)\n",
    "ax.set_xlabel('Year-Month')\n",
    "ax.set_ylabel('Count')\n",
    "ax.set_title('Patient Counts')\n",
    "plt.show()\n"
   ]
  },
  {
   "cell_type": "code",
   "execution_count": 57,
   "id": "6096471d",
   "metadata": {},
   "outputs": [],
   "source": [
    "# The monthly count of target drug is almost an upward curve, even though there are some drop offs which \n",
    "# are not acting as a major part\n"
   ]
  },
  {
   "cell_type": "code",
   "execution_count": 59,
   "id": "237b6001",
   "metadata": {},
   "outputs": [
    {
     "data": {
      "text/plain": [
       "44"
      ]
     },
     "execution_count": 59,
     "metadata": {},
     "output_type": "execute_result"
    }
   ],
   "source": [
    "myl=list(patient_counts)\n",
    "l=[]\n",
    "l.append(0)\n",
    "for i in range(len(myl)-1):\n",
    "    if myl[i]>myl[i+1]:\n",
    "        l.append(myl[i]-myl[i+1])\n",
    "    else:\n",
    "        l.append(0)\n",
    "len(l)"
   ]
  },
  {
   "cell_type": "code",
   "execution_count": 44,
   "id": "23834505",
   "metadata": {},
   "outputs": [
    {
     "data": {
      "text/plain": [
       "44"
      ]
     },
     "execution_count": 44,
     "metadata": {},
     "output_type": "execute_result"
    }
   ],
   "source": [
    "# Get the group names\n",
    "group_names = trend.groups.keys()\n",
    "ya=[]\n",
    "# Print the group names\n",
    "for group_name in group_names:\n",
    "    ya.append(group_name)\n",
    "string_list = list(map(str, ya))\n",
    "len(string_list)"
   ]
  },
  {
   "cell_type": "code",
   "execution_count": 62,
   "id": "c516cba8",
   "metadata": {},
   "outputs": [
    {
     "data": {
      "image/png": "[encoded data removed]",
      "text/plain": [
       "<Figure size 640x480 with 1 Axes>"
      ]
     },
     "metadata": {},
     "output_type": "display_data"
    }
   ],
   "source": [
    "import matplotlib.pyplot as plt\n",
    "plt.bar(string_list, l)\n",
    "plt.title(\"Bar Graph\")\n",
    "plt.xlabel(\"Categories\")\n",
    "plt.ylabel(\"Values\")\n",
    "plt.xticks(rotation=90)\n",
    "plt.tight_layout()\n",
    "plt.show()"
   ]
  },
  {
   "cell_type": "code",
   "execution_count": null,
   "id": "6d703908",
   "metadata": {},
   "outputs": [],
   "source": [
    "# In the above figure we can see the drop off of particular months"
   ]
  }
 ],
 "metadata": {
  "kernelspec": {
   "display_name": "Python 3 (ipykernel)",
   "language": "python",
   "name": "python3"
  },
  "language_info": {
   "codemirror_mode": {
    "name": "ipython",
    "version": 3
   },
   "file_extension": ".py",
   "mimetype": "text/x-python",
   "name": "python",
   "nbconvert_exporter": "python",
   "pygments_lexer": "ipython3",
   "version": "3.9.13"
  }
 },
 "nbformat": 4,
 "nbformat_minor": 5
}
